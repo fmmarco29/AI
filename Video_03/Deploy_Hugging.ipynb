{
 "cells": [
  {
   "attachments": {},
   "cell_type": "markdown",
   "id": "72c6608b-2b75-45bd-85a5-e409848f1516",
   "metadata": {},
   "source": [
    "# 📦 Publica tu App de IA en Hugging Face Spaces (Gradio)\n",
    "Este notebook te guiará paso a paso para desplegar tu aplicación de IA usando Gradio en Hugging Face Spaces, ¡gratis y sin complicaciones!\n",
    "\n"
   ]
  },
  {
   "cell_type": "code",
   "execution_count": null,
   "id": "8b030df2-1358-4b33-80ef-216c4a0fbf94",
   "metadata": {},
   "outputs": [],
   "source": []
  },
  {
   "cell_type": "markdown",
   "id": "975d5ced-2186-47f9-9ead-81f8afe684ac",
   "metadata": {},
   "source": [
    "## 🧪 Requisitos previos\n",
    "- Cuenta gratuita en Hugging Face: https://huggingface.co/join  \n",
    "- Git instalado en tu sistema (`git --version`)  \n",
    "- Una aplicación Gradio funcional (por ejemplo: `app.py`)\n"
   ]
  },
  {
   "cell_type": "markdown",
   "id": "812cb0ee-9b8a-42e7-9481-2ff2301214d0",
   "metadata": {},
   "source": [
    "## 📁 Estructura del proyecto\n",
    "Tu proyecto debe tener al menos estos archivos:\n",
    "\n",
    " Estructura esperada:            \n",
    " mi_app/            \n",
    " ├── app.py         \n",
    " ├── requirements.txt           \n",
    " └── README.md (opcional)"
   ]
  },
  {
   "cell_type": "markdown",
   "id": "10bac589-2d20-4a29-b747-09a9fb7714d0",
   "metadata": {},
   "source": [
    "## ✍️ Paso 1: Crear app.py (Code)"
   ]
  },
  {
   "cell_type": "code",
   "execution_count": null,
   "id": "8943ea62-d33d-45c5-826f-06ea67e0c6db",
   "metadata": {},
   "outputs": [],
   "source": [
    "with open(\"app.py\", \"w\") as f:\n",
    "    f.write(\"\"\"import gradio as gr\n",
    "\n",
    "def saludar(nombre):\n",
    "    return f\"Hola, {nombre}!\"\n",
    "\n",
    "gr.Interface(fn=saludar, inputs=\"text\", outputs=\"text\").launch()\n",
    "\"\"\")"
   ]
  },
  {
   "cell_type": "markdown",
   "id": "f47415d4-e068-4082-8f92-e51adcb61dc7",
   "metadata": {},
   "source": [
    "## 📦 Paso 2: Crear requirements.txt (Code)"
   ]
  },
  {
   "cell_type": "code",
   "execution_count": 1,
   "id": "fb3cedec-0d72-411b-b96b-7728e8ff9b8a",
   "metadata": {},
   "outputs": [],
   "source": [
    "with open(\"requirements.txt\", \"w\") as f:\n",
    "    f.write(\"gradio\\n\")\n"
   ]
  },
  {
   "cell_type": "markdown",
   "id": "1bfa4a85-6939-4c19-9505-1a701db1ee95",
   "metadata": {},
   "source": [
    "## 📝 Paso 3: Crear README.md (opcional) (Code)"
   ]
  },
  {
   "cell_type": "code",
   "execution_count": null,
   "id": "eb0890c5-2c2c-4614-9ee4-73664cca36b6",
   "metadata": {},
   "outputs": [],
   "source": []
  },
  {
   "cell_type": "markdown",
   "id": "41511550-7f6f-4ed2-8d9c-9109312dbce5",
   "metadata": {},
   "source": [
    "## 🚀 Paso 4: Publica tu app en Hugging Face Spaces\n",
    "\n",
    "* Ejecuta estos comandos en tu terminal local, no en Jupyter                    \n",
    "\n",
    "* Inicializa git y haz commit\n",
    "  git init\n",
    "  git add .                         \n",
    "  git commit -m \"primer commit\"   \n",
    "\n",
    "* Crea un nuevo Space en: https://huggingface.co/spaces                             \n",
    "Tipo: Gradio                      \n",
    "Visibilidad: Pública                            \n",
    "\n",
    "* Luego conecta y sube tu proyecto:                              \n",
    "git remote add origin https://huggingface.co/spaces/tu_usuario/tu_app                         \n",
    "git push -u origin master                \n",
    "\n"
   ]
  },
  {
   "cell_type": "markdown",
   "id": "a9947a80-f0ca-4e6a-997b-04ffacce86c1",
   "metadata": {},
   "source": [
    "## 🧠 Consejos útiles\n",
    "- Usa variables de entorno para tus claves API si usas LLMs  \n",
    "- Usa pocas dependencias para que el build sea más rápido  \n",
    "- Agrega instrucciones claras en el `README.md`\n"
   ]
  },
  {
   "cell_type": "code",
   "execution_count": null,
   "id": "a9320538-d957-4d2c-80e8-4dd9c60a8178",
   "metadata": {},
   "outputs": [],
   "source": []
  },
  {
   "cell_type": "markdown",
   "id": "bf84dc3f-981f-480e-9ec7-dad39cd39390",
   "metadata": {},
   "source": [
    "## ✅ Resultado final\n",
    "¡Tu aplicación estará online en minutos con una URL pública como:\n",
    "`https://huggingface.co/spaces/tu_usuario/tu_app`\n"
   ]
  },
  {
   "cell_type": "code",
   "execution_count": null,
   "id": "0c11364f-ca20-4774-8ecb-9f4746280b7d",
   "metadata": {},
   "outputs": [],
   "source": []
  }
 ],
 "metadata": {
  "kernelspec": {
   "display_name": "Python 3 (ipykernel)",
   "language": "python",
   "name": "python3"
  },
  "language_info": {
   "codemirror_mode": {
    "name": "ipython",
    "version": 3
   },
   "file_extension": ".py",
   "mimetype": "text/x-python",
   "name": "python",
   "nbconvert_exporter": "python",
   "pygments_lexer": "ipython3",
   "version": "3.11.12"
  }
 },
 "nbformat": 4,
 "nbformat_minor": 5
}
