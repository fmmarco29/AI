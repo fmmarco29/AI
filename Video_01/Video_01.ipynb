{
 "cells": [
  {
   "cell_type": "markdown",
   "id": "05812a82-01ed-4366-a315-41a64c77f0c2",
   "metadata": {},
   "source": [
    "## ✅ Instalar dependencias"
   ]
  },
  {
   "cell_type": "code",
   "execution_count": 1,
   "id": "fd3aeb7e-26dc-49e4-b0e0-e860b27a52dc",
   "metadata": {},
   "outputs": [
    {
     "name": "stdout",
     "output_type": "stream",
     "text": [
      "Requirement already satisfied: openai in c:\\users\\fmmar\\anaconda3\\envs\\llms\\lib\\site-packages (1.77.0)\n",
      "Requirement already satisfied: gradio in c:\\users\\fmmar\\anaconda3\\envs\\llms\\lib\\site-packages (5.27.0)\n",
      "Requirement already satisfied: python-dotenv in c:\\users\\fmmar\\anaconda3\\envs\\llms\\lib\\site-packages (1.1.0)\n",
      "Requirement already satisfied: anyio<5,>=3.5.0 in c:\\users\\fmmar\\anaconda3\\envs\\llms\\lib\\site-packages (from openai) (4.9.0)\n",
      "Requirement already satisfied: distro<2,>=1.7.0 in c:\\users\\fmmar\\anaconda3\\envs\\llms\\lib\\site-packages (from openai) (1.9.0)\n",
      "Requirement already satisfied: httpx<1,>=0.23.0 in c:\\users\\fmmar\\anaconda3\\envs\\llms\\lib\\site-packages (from openai) (0.28.1)\n",
      "Requirement already satisfied: jiter<1,>=0.4.0 in c:\\users\\fmmar\\anaconda3\\envs\\llms\\lib\\site-packages (from openai) (0.9.0)\n",
      "Requirement already satisfied: pydantic<3,>=1.9.0 in c:\\users\\fmmar\\anaconda3\\envs\\llms\\lib\\site-packages (from openai) (2.11.3)\n",
      "Requirement already satisfied: sniffio in c:\\users\\fmmar\\anaconda3\\envs\\llms\\lib\\site-packages (from openai) (1.3.1)\n",
      "Requirement already satisfied: tqdm>4 in c:\\users\\fmmar\\anaconda3\\envs\\llms\\lib\\site-packages (from openai) (4.67.1)\n",
      "Requirement already satisfied: typing-extensions<5,>=4.11 in c:\\users\\fmmar\\anaconda3\\envs\\llms\\lib\\site-packages (from openai) (4.13.2)\n",
      "Requirement already satisfied: idna>=2.8 in c:\\users\\fmmar\\anaconda3\\envs\\llms\\lib\\site-packages (from anyio<5,>=3.5.0->openai) (3.10)\n",
      "Requirement already satisfied: certifi in c:\\users\\fmmar\\anaconda3\\envs\\llms\\lib\\site-packages (from httpx<1,>=0.23.0->openai) (2025.4.26)\n",
      "Requirement already satisfied: httpcore==1.* in c:\\users\\fmmar\\anaconda3\\envs\\llms\\lib\\site-packages (from httpx<1,>=0.23.0->openai) (1.0.7)\n",
      "Requirement already satisfied: h11<0.15,>=0.13 in c:\\users\\fmmar\\anaconda3\\envs\\llms\\lib\\site-packages (from httpcore==1.*->httpx<1,>=0.23.0->openai) (0.14.0)\n",
      "Requirement already satisfied: annotated-types>=0.6.0 in c:\\users\\fmmar\\anaconda3\\envs\\llms\\lib\\site-packages (from pydantic<3,>=1.9.0->openai) (0.7.0)\n",
      "Requirement already satisfied: pydantic-core==2.33.1 in c:\\users\\fmmar\\anaconda3\\envs\\llms\\lib\\site-packages (from pydantic<3,>=1.9.0->openai) (2.33.1)\n",
      "Requirement already satisfied: typing-inspection>=0.4.0 in c:\\users\\fmmar\\anaconda3\\envs\\llms\\lib\\site-packages (from pydantic<3,>=1.9.0->openai) (0.4.0)\n",
      "Requirement already satisfied: aiofiles<25.0,>=22.0 in c:\\users\\fmmar\\anaconda3\\envs\\llms\\lib\\site-packages (from gradio) (24.1.0)\n",
      "Requirement already satisfied: fastapi<1.0,>=0.115.2 in c:\\users\\fmmar\\anaconda3\\envs\\llms\\lib\\site-packages (from gradio) (0.115.9)\n",
      "Requirement already satisfied: ffmpy in c:\\users\\fmmar\\anaconda3\\envs\\llms\\lib\\site-packages (from gradio) (0.5.0)\n",
      "Requirement already satisfied: gradio-client==1.9.0 in c:\\users\\fmmar\\anaconda3\\envs\\llms\\lib\\site-packages (from gradio) (1.9.0)\n",
      "Requirement already satisfied: groovy~=0.1 in c:\\users\\fmmar\\anaconda3\\envs\\llms\\lib\\site-packages (from gradio) (0.1.2)\n",
      "Requirement already satisfied: huggingface-hub>=0.28.1 in c:\\users\\fmmar\\anaconda3\\envs\\llms\\lib\\site-packages (from gradio) (0.30.2)\n",
      "Requirement already satisfied: jinja2<4.0 in c:\\users\\fmmar\\anaconda3\\envs\\llms\\lib\\site-packages (from gradio) (3.1.6)\n",
      "Requirement already satisfied: markupsafe<4.0,>=2.0 in c:\\users\\fmmar\\anaconda3\\envs\\llms\\lib\\site-packages (from gradio) (3.0.2)\n",
      "Requirement already satisfied: numpy<3.0,>=1.0 in c:\\users\\fmmar\\anaconda3\\envs\\llms\\lib\\site-packages (from gradio) (1.26.4)\n",
      "Requirement already satisfied: orjson~=3.0 in c:\\users\\fmmar\\anaconda3\\envs\\llms\\lib\\site-packages (from gradio) (3.10.16)\n",
      "Requirement already satisfied: packaging in c:\\users\\fmmar\\anaconda3\\envs\\llms\\lib\\site-packages (from gradio) (24.2)\n",
      "Requirement already satisfied: pandas<3.0,>=1.0 in c:\\users\\fmmar\\anaconda3\\envs\\llms\\lib\\site-packages (from gradio) (2.2.3)\n",
      "Requirement already satisfied: pillow<12.0,>=8.0 in c:\\users\\fmmar\\anaconda3\\envs\\llms\\lib\\site-packages (from gradio) (11.1.0)\n",
      "Requirement already satisfied: pydub in c:\\users\\fmmar\\anaconda3\\envs\\llms\\lib\\site-packages (from gradio) (0.25.1)\n",
      "Requirement already satisfied: python-multipart>=0.0.18 in c:\\users\\fmmar\\anaconda3\\envs\\llms\\lib\\site-packages (from gradio) (0.0.20)\n",
      "Requirement already satisfied: pyyaml<7.0,>=5.0 in c:\\users\\fmmar\\anaconda3\\envs\\llms\\lib\\site-packages (from gradio) (6.0.2)\n",
      "Requirement already satisfied: ruff>=0.9.3 in c:\\users\\fmmar\\anaconda3\\envs\\llms\\lib\\site-packages (from gradio) (0.11.6)\n",
      "Requirement already satisfied: safehttpx<0.2.0,>=0.1.6 in c:\\users\\fmmar\\anaconda3\\envs\\llms\\lib\\site-packages (from gradio) (0.1.6)\n",
      "Requirement already satisfied: semantic-version~=2.0 in c:\\users\\fmmar\\anaconda3\\envs\\llms\\lib\\site-packages (from gradio) (2.10.0)\n",
      "Requirement already satisfied: starlette<1.0,>=0.40.0 in c:\\users\\fmmar\\anaconda3\\envs\\llms\\lib\\site-packages (from gradio) (0.45.3)\n",
      "Requirement already satisfied: tomlkit<0.14.0,>=0.12.0 in c:\\users\\fmmar\\anaconda3\\envs\\llms\\lib\\site-packages (from gradio) (0.13.2)\n",
      "Requirement already satisfied: typer<1.0,>=0.12 in c:\\users\\fmmar\\anaconda3\\envs\\llms\\lib\\site-packages (from gradio) (0.15.2)\n",
      "Requirement already satisfied: uvicorn>=0.14.0 in c:\\users\\fmmar\\anaconda3\\envs\\llms\\lib\\site-packages (from gradio) (0.34.2)\n",
      "Requirement already satisfied: fsspec in c:\\users\\fmmar\\anaconda3\\envs\\llms\\lib\\site-packages (from gradio-client==1.9.0->gradio) (2024.12.0)\n",
      "Requirement already satisfied: websockets<16.0,>=10.0 in c:\\users\\fmmar\\anaconda3\\envs\\llms\\lib\\site-packages (from gradio-client==1.9.0->gradio) (15.0.1)\n",
      "Requirement already satisfied: python-dateutil>=2.8.2 in c:\\users\\fmmar\\anaconda3\\envs\\llms\\lib\\site-packages (from pandas<3.0,>=1.0->gradio) (2.9.0.post0)\n",
      "Requirement already satisfied: pytz>=2020.1 in c:\\users\\fmmar\\anaconda3\\envs\\llms\\lib\\site-packages (from pandas<3.0,>=1.0->gradio) (2025.2)\n",
      "Requirement already satisfied: tzdata>=2022.7 in c:\\users\\fmmar\\anaconda3\\envs\\llms\\lib\\site-packages (from pandas<3.0,>=1.0->gradio) (2025.2)\n",
      "Requirement already satisfied: click>=8.0.0 in c:\\users\\fmmar\\anaconda3\\envs\\llms\\lib\\site-packages (from typer<1.0,>=0.12->gradio) (8.1.8)\n",
      "Requirement already satisfied: shellingham>=1.3.0 in c:\\users\\fmmar\\anaconda3\\envs\\llms\\lib\\site-packages (from typer<1.0,>=0.12->gradio) (1.5.4)\n",
      "Requirement already satisfied: rich>=10.11.0 in c:\\users\\fmmar\\anaconda3\\envs\\llms\\lib\\site-packages (from typer<1.0,>=0.12->gradio) (14.0.0)\n",
      "Requirement already satisfied: colorama in c:\\users\\fmmar\\anaconda3\\envs\\llms\\lib\\site-packages (from click>=8.0.0->typer<1.0,>=0.12->gradio) (0.4.6)\n",
      "Requirement already satisfied: filelock in c:\\users\\fmmar\\anaconda3\\envs\\llms\\lib\\site-packages (from huggingface-hub>=0.28.1->gradio) (3.18.0)\n",
      "Requirement already satisfied: requests in c:\\users\\fmmar\\anaconda3\\envs\\llms\\lib\\site-packages (from huggingface-hub>=0.28.1->gradio) (2.32.3)\n",
      "Requirement already satisfied: six>=1.5 in c:\\users\\fmmar\\anaconda3\\envs\\llms\\lib\\site-packages (from python-dateutil>=2.8.2->pandas<3.0,>=1.0->gradio) (1.17.0)\n",
      "Requirement already satisfied: markdown-it-py>=2.2.0 in c:\\users\\fmmar\\anaconda3\\envs\\llms\\lib\\site-packages (from rich>=10.11.0->typer<1.0,>=0.12->gradio) (3.0.0)\n",
      "Requirement already satisfied: pygments<3.0.0,>=2.13.0 in c:\\users\\fmmar\\anaconda3\\envs\\llms\\lib\\site-packages (from rich>=10.11.0->typer<1.0,>=0.12->gradio) (2.19.1)\n",
      "Requirement already satisfied: mdurl~=0.1 in c:\\users\\fmmar\\anaconda3\\envs\\llms\\lib\\site-packages (from markdown-it-py>=2.2.0->rich>=10.11.0->typer<1.0,>=0.12->gradio) (0.1.2)\n",
      "Requirement already satisfied: charset_normalizer<4,>=2 in c:\\users\\fmmar\\anaconda3\\envs\\llms\\lib\\site-packages (from requests->huggingface-hub>=0.28.1->gradio) (3.4.1)\n",
      "Requirement already satisfied: urllib3<3,>=1.21.1 in c:\\users\\fmmar\\anaconda3\\envs\\llms\\lib\\site-packages (from requests->huggingface-hub>=0.28.1->gradio) (2.4.0)\n"
     ]
    }
   ],
   "source": [
    "# Instala los paquetes necesarios\n",
    "\n",
    "!pip install openai gradio python-dotenv"
   ]
  },
  {
   "cell_type": "markdown",
   "id": "cde46897-9ea7-4df4-9239-c68f0b999ed1",
   "metadata": {},
   "source": [
    "## ✅ Importar librerías y cargar la API key"
   ]
  },
  {
   "cell_type": "code",
   "execution_count": 4,
   "id": "6a479084-db70-4512-8d13-6f6bdcc96e02",
   "metadata": {},
   "outputs": [],
   "source": [
    "# Importamos las librerías necesarias\n",
    "\n",
    "import os\n",
    "import openai\n",
    "import gradio as gr\n",
    "from dotenv import load_dotenv\n",
    "\n",
    "# Cargamos las variables de entorno desde un archivo .env\n",
    "\n",
    "load_dotenv()\n",
    "\n",
    "# Establecemos la clave API de OpenAI\n",
    "\n",
    "openai.api_key = os.getenv(\"OPENAI_API_KEY\")\n"
   ]
  },
  {
   "cell_type": "markdown",
   "id": "f34085cb-54d7-455a-a9c3-b7ecc8f99e03",
   "metadata": {},
   "source": [
    "## ✅ Definir la función de chatbot"
   ]
  },
  {
   "cell_type": "code",
   "execution_count": 6,
   "id": "2f211a58-d974-4d9c-9e98-aa45ec04048b",
   "metadata": {},
   "outputs": [],
   "source": [
    "# Esta función toma un mensaje del usuario, lo envía al modelo de OpenAI y devuelve la respuesta.\n",
    "\n",
    "def chat_with_gpt(message):\n",
    "    try:\n",
    "        response = openai.ChatCompletion.create(\n",
    "            model=\"gpt-3.5-turbo\",  # Modelo gratuito de OpenAI (requiere cuenta)\n",
    "            messages=[{\"role\": \"user\", \"content\": message}],\n",
    "            temperature=0.7  # Grado de creatividad\n",
    "        )\n",
    "        return response.choices[0].message[\"content\"]\n",
    "    except Exception as e:\n",
    "        return f\"Error: {e}\"\n"
   ]
  },
  {
   "cell_type": "markdown",
   "id": "ba15419d-862b-48db-a9b9-09db00851ae4",
   "metadata": {},
   "source": [
    "## ✅ Crear la interfaz con Gradio"
   ]
  },
  {
   "cell_type": "code",
   "execution_count": 7,
   "id": "a47bad2f-1b4b-4d52-9a85-53b5fdb58a09",
   "metadata": {},
   "outputs": [
    {
     "name": "stdout",
     "output_type": "stream",
     "text": [
      "* Running on local URL:  http://127.0.0.1:7860\n",
      "\n",
      "To create a public link, set `share=True` in `launch()`.\n"
     ]
    },
    {
     "data": {
      "text/html": [
       "<div><iframe src=\"http://127.0.0.1:7860/\" width=\"100%\" height=\"500\" allow=\"autoplay; camera; microphone; clipboard-read; clipboard-write;\" frameborder=\"0\" allowfullscreen></iframe></div>"
      ],
      "text/plain": [
       "<IPython.core.display.HTML object>"
      ]
     },
     "metadata": {},
     "output_type": "display_data"
    },
    {
     "data": {
      "text/plain": []
     },
     "execution_count": 7,
     "metadata": {},
     "output_type": "execute_result"
    }
   ],
   "source": [
    "# Aquí definimos la interfaz de usuario usando Gradio\n",
    "with gr.Blocks() as demo:\n",
    "    gr.Markdown(\"## 💬 Chat con GPT-3.5\")\n",
    "    \n",
    "    # Entrada de texto\n",
    "    input_text = gr.Textbox(label=\"Escribe tu mensaje aquí\")\n",
    "    \n",
    "    # Salida de texto (respuesta del modelo)\n",
    "    output_text = gr.Textbox(label=\"Respuesta del chatbot\")\n",
    "    \n",
    "    # Cuando el usuario pulsa Enter, se envía el mensaje y se muestra la respuesta\n",
    "    input_text.submit(chat_with_gpt, inputs=input_text, outputs=output_text)\n",
    "\n",
    "# Ejecutamos la aplicación\n",
    "demo.launch()\n"
   ]
  },
  {
   "cell_type": "code",
   "execution_count": null,
   "id": "b1aab734-edaf-4e88-a2c0-b51b3d340ad6",
   "metadata": {},
   "outputs": [],
   "source": []
  }
 ],
 "metadata": {
  "kernelspec": {
   "display_name": "Python 3 (ipykernel)",
   "language": "python",
   "name": "python3"
  },
  "language_info": {
   "codemirror_mode": {
    "name": "ipython",
    "version": 3
   },
   "file_extension": ".py",
   "mimetype": "text/x-python",
   "name": "python",
   "nbconvert_exporter": "python",
   "pygments_lexer": "ipython3",
   "version": "3.11.12"
  }
 },
 "nbformat": 4,
 "nbformat_minor": 5
}
