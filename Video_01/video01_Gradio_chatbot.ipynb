{
 "cells": [
  {
   "cell_type": "markdown",
   "id": "4078982f-90fb-47a9-8b7b-745ef30e6b80",
   "metadata": {},
   "source": [
    "# 🤖 Gradio_chatbot_con_OpenAI"
   ]
  },
  {
   "cell_type": "markdown",
   "id": "05812a82-01ed-4366-a315-41a64c77f0c2",
   "metadata": {},
   "source": [
    "## ✅ Instalar dependencias necesarias"
   ]
  },
  {
   "cell_type": "code",
   "execution_count": 44,
   "id": "f8734714-54a5-4074-a68d-f4aa5dc7bd01",
   "metadata": {},
   "outputs": [],
   "source": [
    "import os\n",
    "import openai\n",
    "from dotenv import load_dotenv\n",
    "from openai import OpenAI\n",
    "import gradio as gr"
   ]
  },
  {
   "cell_type": "markdown",
   "id": "5769ccfa-a60f-4fd8-acbd-41b52626eeb3",
   "metadata": {},
   "source": [
    "## ✅ Entrada del OPENAI_API_KEY\n",
    "\n",
    "1. Con load_dotenv leeará la OPENAI_API_KEY del archivo .env (no lo debes hacer publico)\n",
    "2. Ir a OpenAI website y crear una API_KEY\n",
    "3. En el block de notas insertas OPENAI_API_KEY=XXX\n",
    "4. Guardas el archivo como .env, esto permitira que sea leído y mantener tu privacidad\n",
    "5. Comprobamos que la claves está correctamente cargada"
   ]
  },
  {
   "cell_type": "code",
   "execution_count": 45,
   "id": "3a47ad9d-b2e0-4c44-9e6a-8845ad2779d3",
   "metadata": {},
   "outputs": [
    {
     "name": "stdout",
     "output_type": "stream",
     "text": [
      "OpenAI API Key exists and begins sk-proj-\n"
     ]
    }
   ],
   "source": [
    "load_dotenv(override=True)\n",
    "openai_api_key = os.getenv('OPENAI_API_KEY')\n",
    "if openai_api_key:\n",
    "    print(f\"OpenAI API Key exists and begins {openai_api_key[:8]}\")"
   ]
  },
  {
   "cell_type": "markdown",
   "id": "a4b87ee2-80ac-4b95-a2a2-1c5e8d42cb61",
   "metadata": {},
   "source": [
    "## ✅ Definimos system_prompt y user_prompt"
   ]
  },
  {
   "cell_type": "code",
   "execution_count": 53,
   "id": "066acd8e-d88f-4a70-91f3-6159a02f8965",
   "metadata": {},
   "outputs": [],
   "source": [
    "system_message = \"You are a very good doctro\"\n",
    "user_prompt = \"Answer as a doctor with long and accurate answer\""
   ]
  },
  {
   "cell_type": "markdown",
   "id": "947d6a67-9f42-4bc3-8d29-d26fb65199d6",
   "metadata": {},
   "source": [
    "## ✅ Instalar dependencias necesarias"
   ]
  },
  {
   "cell_type": "code",
   "execution_count": 54,
   "id": "806561b5-6517-4908-853c-d6697a4cc372",
   "metadata": {},
   "outputs": [],
   "source": [
    "prompts = [\n",
    "    {\"role\": \"system\", \"content\": system_message},\n",
    "    {\"role\": \"user\", \"content\": user_prompt}\n",
    "  ]"
   ]
  },
  {
   "cell_type": "markdown",
   "id": "058e14a5-81ff-495f-82ef-aa99cc2a5ca4",
   "metadata": {},
   "source": [
    "## ✅ Instalar dependencias necesarias"
   ]
  },
  {
   "cell_type": "code",
   "execution_count": 55,
   "id": "d7287290-b5dd-4250-8d17-cf843323821c",
   "metadata": {},
   "outputs": [],
   "source": [
    "def chat(message, history):\n",
    "    messages = [{\"role\": \"system\", \"content\": system_message}] + history + [{\"role\": \"user\", \"content\": message}]\n",
    "\n",
    "    stream = openai.chat.completions.create(model='gpt-4o-mini', messages=messages, stream=True)\n",
    "\n",
    "    response = \"\"\n",
    "    for chunk in stream:\n",
    "        response += chunk.choices[0].delta.content or ''\n",
    "        yield response"
   ]
  },
  {
   "cell_type": "markdown",
   "id": "8935bba8-85c9-4506-a64a-5a63c66aacf1",
   "metadata": {},
   "source": [
    "## ✅ Instalar dependencias necesarias"
   ]
  },
  {
   "cell_type": "code",
   "execution_count": 56,
   "id": "385c8410-62d6-4bf3-ace4-b732b9522903",
   "metadata": {},
   "outputs": [
    {
     "name": "stdout",
     "output_type": "stream",
     "text": [
      "* Running on local URL:  http://127.0.0.1:7881\n",
      "\n",
      "To create a public link, set `share=True` in `launch()`.\n"
     ]
    },
    {
     "data": {
      "text/html": [
       "<div><iframe src=\"http://127.0.0.1:7881/\" width=\"100%\" height=\"500\" allow=\"autoplay; camera; microphone; clipboard-read; clipboard-write;\" frameborder=\"0\" allowfullscreen></iframe></div>"
      ],
      "text/plain": [
       "<IPython.core.display.HTML object>"
      ]
     },
     "metadata": {},
     "output_type": "display_data"
    }
   ],
   "source": [
    "demo = gr.ChatInterface(chat, type=\"messages\", title=\"🤖 OpenAI Chatbot\", fill_height=True, fill_width=True).launch()"
   ]
  },
  {
   "cell_type": "code",
   "execution_count": null,
   "id": "73ea451a-dcfa-4fec-b935-7181b133356c",
   "metadata": {},
   "outputs": [],
   "source": []
  }
 ],
 "metadata": {
  "kernelspec": {
   "display_name": "Python 3 (ipykernel)",
   "language": "python",
   "name": "python3"
  },
  "language_info": {
   "codemirror_mode": {
    "name": "ipython",
    "version": 3
   },
   "file_extension": ".py",
   "mimetype": "text/x-python",
   "name": "python",
   "nbconvert_exporter": "python",
   "pygments_lexer": "ipython3",
   "version": "3.11.12"
  }
 },
 "nbformat": 4,
 "nbformat_minor": 5
}
