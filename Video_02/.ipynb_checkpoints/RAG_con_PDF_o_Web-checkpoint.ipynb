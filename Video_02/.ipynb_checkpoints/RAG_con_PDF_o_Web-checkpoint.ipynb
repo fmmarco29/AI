{
 "cells": [
  {
   "cell_type": "markdown",
   "id": "e09c4f53",
   "metadata": {},
   "source": [
    "# 🔄 Crea tu propio RAG con LangChain, Chroma y Gradio\n",
    "Este notebook construye una app RAG (Retrieval-Augmented Generation) que te permite subir un PDF o indicar una web, indexar el contenido y hacer preguntas en lenguaje natural."
   ]
  },
  {
   "cell_type": "code",
   "execution_count": 3,
   "id": "4f630c00",
   "metadata": {},
   "outputs": [],
   "source": [
    "!pip install langchain chromadb gradio pypdf unstructured tiktoken sentence-transformers"
   ]
  },
  {
   "cell_type": "markdown",
   "id": "9ad9b5ac",
   "metadata": {},
   "source": [
    "## Carga de documento PDF o desde web"
   ]
  },
  {
   "cell_type": "code",
   "execution_count": 13,
   "id": "6a122be4",
   "metadata": {},
   "outputs": [
    {
     "name": "stdout",
     "output_type": "stream",
     "text": [
      "OpenAI API Key exists and begins sk-proj-\n"
     ]
    }
   ],
   "source": [
    "import os\n",
    "import openai\n",
    "from dotenv import load_dotenv\n",
    "from openai import OpenAI\n",
    "import gradio as gr\n",
    "from langchain.document_loaders import PyPDFLoader, WebBaseLoader\n",
    "\n",
    "load_dotenv(override=True)\n",
    "openai_api_key = os.getenv('OPENAI_API_KEY')\n",
    "if openai_api_key:\n",
    "    print(f\"OpenAI API Key exists and begins {openai_api_key[:8]}\")\n",
    "\n",
    "# Cargar PDF\n",
    "pdf_loader = PyPDFLoader(\"EU_AI_Act_ESP.pdf\")  # Cambia por tu archivo\n",
    "pdf_docs = pdf_loader.load()\n",
    "\n",
    "# Cargar desde una web\n",
    "# web_loader = WebBaseLoader(\"https://example.com\")\n",
    "# web_docs = web_loader.load()\n"
   ]
  },
  {
   "cell_type": "markdown",
   "id": "14558edc",
   "metadata": {},
   "source": [
    "## División en chunks y creación de base vectorial"
   ]
  },
  {
   "cell_type": "code",
   "execution_count": 14,
   "id": "33aa691b",
   "metadata": {},
   "outputs": [],
   "source": [
    "from langchain.text_splitter import RecursiveCharacterTextSplitter\n",
    "from langchain.vectorstores import Chroma\n",
    "from langchain.embeddings import HuggingFaceEmbeddings\n",
    "\n",
    "text_splitter = RecursiveCharacterTextSplitter(chunk_size=500, chunk_overlap=50)\n",
    "chunks = text_splitter.split_documents(pdf_docs)\n",
    "\n",
    "embedding = HuggingFaceEmbeddings(model_name=\"sentence-transformers/all-MiniLM-L6-v2\")\n",
    "db = Chroma.from_documents(chunks, embedding)\n"
   ]
  },
  {
   "cell_type": "markdown",
   "id": "10bec99d",
   "metadata": {},
   "source": [
    "## Cadena de respuesta con contexto (RAG)"
   ]
  },
  {
   "cell_type": "code",
   "execution_count": 16,
   "id": "f771d2a1",
   "metadata": {},
   "outputs": [
    {
     "data": {
      "text/plain": [
       "' El documento habla sobre la evaluación de la documentación técnica relativa a un sistema de IA que un proveedor quiera introducir en el mercado o poner en servicio, y al que se aplicará un sistema de gestión de calidad mencionado en el punto 3. La solicitud debe incluir una declaración por escrito de que no se ha presentado la misma solicitud ante ningún otro organismo notificado y la documentación técnica prevista en el anexo IV.'"
      ]
     },
     "execution_count": 16,
     "metadata": {},
     "output_type": "execute_result"
    }
   ],
   "source": [
    "from langchain.llms import OpenAI  # Puedes cambiar por otro LLM gratuito como GPT4All o LlamaCpp\n",
    "from langchain.chains import RetrievalQA\n",
    "\n",
    "qa = RetrievalQA.from_chain_type(\n",
    "    llm=OpenAI(),  # Usa tu clave API o sustituye por otro modelo\n",
    "    retriever=db.as_retriever()\n",
    ")\n",
    "\n",
    "# Prueba\n",
    "qa.run(\"¿Qué dice el documento sobre Inteligencia artificaial?\")\n"
   ]
  },
  {
   "cell_type": "markdown",
   "id": "df36b3d0",
   "metadata": {},
   "source": [
    "## Crear interfaz web con Gradio"
   ]
  },
  {
   "cell_type": "code",
   "execution_count": 21,
   "id": "f58bd647",
   "metadata": {},
   "outputs": [
    {
     "name": "stdout",
     "output_type": "stream",
     "text": [
      "* Running on local URL:  http://127.0.0.1:7863\n",
      "\n",
      "To create a public link, set `share=True` in `launch()`.\n"
     ]
    },
    {
     "data": {
      "text/html": [
       "<div><iframe src=\"http://127.0.0.1:7863/\" width=\"100%\" height=\"500\" allow=\"autoplay; camera; microphone; clipboard-read; clipboard-write;\" frameborder=\"0\" allowfullscreen></iframe></div>"
      ],
      "text/plain": [
       "<IPython.core.display.HTML object>"
      ]
     },
     "metadata": {},
     "output_type": "display_data"
    },
    {
     "data": {
      "text/plain": []
     },
     "execution_count": 21,
     "metadata": {},
     "output_type": "execute_result"
    }
   ],
   "source": [
    "import gradio as gr\n",
    "\n",
    "def responder(pregunta, archivo):\n",
    "    loader = PyPDFLoader(archivo.name)\n",
    "    docs = loader.load()\n",
    "    chunks = text_splitter.split_documents(docs)\n",
    "    db = Chroma.from_documents(chunks, embedding)\n",
    "    qa = RetrievalQA.from_chain_type(llm=OpenAI(), retriever=db.as_retriever())\n",
    "    return qa.run(pregunta)\n",
    "\n",
    "demo = gr.Interface(\n",
    "    fn=responder,\n",
    "    inputs=[gr.Textbox(label=\"Pregunta\"), gr.File(label=\"Sube tu PDF\")],\n",
    "    outputs=\"text\",\n",
    "    title=\"🔄 RAG OpenAI Chatbot\"\n",
    ")\n",
    "\n",
    "demo.launch()\n"
   ]
  },
  {
   "cell_type": "code",
   "execution_count": null,
   "id": "62d0a999-ac4e-4f9d-8c88-ae2908970ffd",
   "metadata": {},
   "outputs": [],
   "source": []
  }
 ],
 "metadata": {
  "kernelspec": {
   "display_name": "Python 3 (ipykernel)",
   "language": "python",
   "name": "python3"
  },
  "language_info": {
   "codemirror_mode": {
    "name": "ipython",
    "version": 3
   },
   "file_extension": ".py",
   "mimetype": "text/x-python",
   "name": "python",
   "nbconvert_exporter": "python",
   "pygments_lexer": "ipython3",
   "version": "3.11.12"
  }
 },
 "nbformat": 4,
 "nbformat_minor": 5
}
