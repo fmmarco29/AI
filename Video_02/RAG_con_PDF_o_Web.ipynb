{
 "cells": [
  {
   "cell_type": "markdown",
   "id": "e09c4f53",
   "metadata": {},
   "source": [
    "# 🔄 Crea tu propio RAG con LangChain, Chroma y Gradio\n",
    "Este notebook construye una app RAG (Retrieval-Augmented Generation) que te permite subir un PDF o indicar una web, indexar el contenido y hacer preguntas en lenguaje natural."
   ]
  },
  {
   "cell_type": "code",
   "execution_count": 9,
   "id": "4f630c00",
   "metadata": {},
   "outputs": [
    {
     "name": "stdout",
     "output_type": "stream",
     "text": [
      "Requirement already satisfied: langchain in c:\\users\\fmmar\\anaconda3\\envs\\llms\\lib\\site-packages (0.3.24)\n",
      "Requirement already satisfied: chromadb in c:\\users\\fmmar\\anaconda3\\envs\\llms\\lib\\site-packages (0.5.0)\n",
      "Requirement already satisfied: gradio in c:\\users\\fmmar\\anaconda3\\envs\\llms\\lib\\site-packages (5.27.0)\n",
      "Requirement already satisfied: pypdf in c:\\users\\fmmar\\anaconda3\\envs\\llms\\lib\\site-packages (5.4.0)\n",
      "Requirement already satisfied: unstructured in c:\\users\\fmmar\\anaconda3\\envs\\llms\\lib\\site-packages (0.17.2)\n",
      "Requirement already satisfied: tiktoken in c:\\users\\fmmar\\anaconda3\\envs\\llms\\lib\\site-packages (0.9.0)\n",
      "Requirement already satisfied: sentence-transformers in c:\\users\\fmmar\\anaconda3\\envs\\llms\\lib\\site-packages (4.1.0)\n",
      "Requirement already satisfied: langchain-core<1.0.0,>=0.3.55 in c:\\users\\fmmar\\anaconda3\\envs\\llms\\lib\\site-packages (from langchain) (0.3.56)\n",
      "Requirement already satisfied: langchain-text-splitters<1.0.0,>=0.3.8 in c:\\users\\fmmar\\anaconda3\\envs\\llms\\lib\\site-packages (from langchain) (0.3.8)\n",
      "Requirement already satisfied: langsmith<0.4,>=0.1.17 in c:\\users\\fmmar\\anaconda3\\envs\\llms\\lib\\site-packages (from langchain) (0.3.33)\n",
      "Requirement already satisfied: pydantic<3.0.0,>=2.7.4 in c:\\users\\fmmar\\anaconda3\\envs\\llms\\lib\\site-packages (from langchain) (2.11.3)\n",
      "Requirement already satisfied: SQLAlchemy<3,>=1.4 in c:\\users\\fmmar\\anaconda3\\envs\\llms\\lib\\site-packages (from langchain) (2.0.40)\n",
      "Requirement already satisfied: requests<3,>=2 in c:\\users\\fmmar\\anaconda3\\envs\\llms\\lib\\site-packages (from langchain) (2.32.3)\n",
      "Requirement already satisfied: PyYAML>=5.3 in c:\\users\\fmmar\\anaconda3\\envs\\llms\\lib\\site-packages (from langchain) (6.0.2)\n",
      "Requirement already satisfied: tenacity!=8.4.0,<10.0.0,>=8.1.0 in c:\\users\\fmmar\\anaconda3\\envs\\llms\\lib\\site-packages (from langchain-core<1.0.0,>=0.3.55->langchain) (9.1.2)\n",
      "Requirement already satisfied: jsonpatch<2.0,>=1.33 in c:\\users\\fmmar\\anaconda3\\envs\\llms\\lib\\site-packages (from langchain-core<1.0.0,>=0.3.55->langchain) (1.33)\n",
      "Requirement already satisfied: packaging<25,>=23.2 in c:\\users\\fmmar\\anaconda3\\envs\\llms\\lib\\site-packages (from langchain-core<1.0.0,>=0.3.55->langchain) (24.2)\n",
      "Requirement already satisfied: typing-extensions>=4.7 in c:\\users\\fmmar\\anaconda3\\envs\\llms\\lib\\site-packages (from langchain-core<1.0.0,>=0.3.55->langchain) (4.13.2)\n",
      "Requirement already satisfied: jsonpointer>=1.9 in c:\\users\\fmmar\\anaconda3\\envs\\llms\\lib\\site-packages (from jsonpatch<2.0,>=1.33->langchain-core<1.0.0,>=0.3.55->langchain) (3.0.0)\n",
      "Requirement already satisfied: httpx<1,>=0.23.0 in c:\\users\\fmmar\\anaconda3\\envs\\llms\\lib\\site-packages (from langsmith<0.4,>=0.1.17->langchain) (0.28.1)\n",
      "Requirement already satisfied: orjson<4.0.0,>=3.9.14 in c:\\users\\fmmar\\anaconda3\\envs\\llms\\lib\\site-packages (from langsmith<0.4,>=0.1.17->langchain) (3.10.16)\n",
      "Requirement already satisfied: requests-toolbelt<2.0.0,>=1.0.0 in c:\\users\\fmmar\\anaconda3\\envs\\llms\\lib\\site-packages (from langsmith<0.4,>=0.1.17->langchain) (1.0.0)\n",
      "Requirement already satisfied: zstandard<0.24.0,>=0.23.0 in c:\\users\\fmmar\\anaconda3\\envs\\llms\\lib\\site-packages (from langsmith<0.4,>=0.1.17->langchain) (0.23.0)\n",
      "Requirement already satisfied: anyio in c:\\users\\fmmar\\anaconda3\\envs\\llms\\lib\\site-packages (from httpx<1,>=0.23.0->langsmith<0.4,>=0.1.17->langchain) (4.9.0)\n",
      "Requirement already satisfied: certifi in c:\\users\\fmmar\\anaconda3\\envs\\llms\\lib\\site-packages (from httpx<1,>=0.23.0->langsmith<0.4,>=0.1.17->langchain) (2025.4.26)\n",
      "Requirement already satisfied: httpcore==1.* in c:\\users\\fmmar\\anaconda3\\envs\\llms\\lib\\site-packages (from httpx<1,>=0.23.0->langsmith<0.4,>=0.1.17->langchain) (1.0.7)\n",
      "Requirement already satisfied: idna in c:\\users\\fmmar\\anaconda3\\envs\\llms\\lib\\site-packages (from httpx<1,>=0.23.0->langsmith<0.4,>=0.1.17->langchain) (3.10)\n",
      "Requirement already satisfied: h11<0.15,>=0.13 in c:\\users\\fmmar\\anaconda3\\envs\\llms\\lib\\site-packages (from httpcore==1.*->httpx<1,>=0.23.0->langsmith<0.4,>=0.1.17->langchain) (0.14.0)\n",
      "Requirement already satisfied: annotated-types>=0.6.0 in c:\\users\\fmmar\\anaconda3\\envs\\llms\\lib\\site-packages (from pydantic<3.0.0,>=2.7.4->langchain) (0.7.0)\n",
      "Requirement already satisfied: pydantic-core==2.33.1 in c:\\users\\fmmar\\anaconda3\\envs\\llms\\lib\\site-packages (from pydantic<3.0.0,>=2.7.4->langchain) (2.33.1)\n",
      "Requirement already satisfied: typing-inspection>=0.4.0 in c:\\users\\fmmar\\anaconda3\\envs\\llms\\lib\\site-packages (from pydantic<3.0.0,>=2.7.4->langchain) (0.4.0)\n",
      "Requirement already satisfied: charset_normalizer<4,>=2 in c:\\users\\fmmar\\anaconda3\\envs\\llms\\lib\\site-packages (from requests<3,>=2->langchain) (3.4.1)\n",
      "Requirement already satisfied: urllib3<3,>=1.21.1 in c:\\users\\fmmar\\anaconda3\\envs\\llms\\lib\\site-packages (from requests<3,>=2->langchain) (2.4.0)\n",
      "Requirement already satisfied: greenlet>=1 in c:\\users\\fmmar\\anaconda3\\envs\\llms\\lib\\site-packages (from SQLAlchemy<3,>=1.4->langchain) (3.2.1)\n",
      "Requirement already satisfied: build>=1.0.3 in c:\\users\\fmmar\\anaconda3\\envs\\llms\\lib\\site-packages (from chromadb) (1.2.2.post1)\n",
      "Requirement already satisfied: chroma-hnswlib==0.7.3 in c:\\users\\fmmar\\anaconda3\\envs\\llms\\lib\\site-packages (from chromadb) (0.7.3)\n",
      "Requirement already satisfied: fastapi>=0.95.2 in c:\\users\\fmmar\\anaconda3\\envs\\llms\\lib\\site-packages (from chromadb) (0.115.9)\n",
      "Requirement already satisfied: uvicorn>=0.18.3 in c:\\users\\fmmar\\anaconda3\\envs\\llms\\lib\\site-packages (from uvicorn[standard]>=0.18.3->chromadb) (0.34.2)\n",
      "Requirement already satisfied: numpy>=1.22.5 in c:\\users\\fmmar\\anaconda3\\envs\\llms\\lib\\site-packages (from chromadb) (1.26.4)\n",
      "Requirement already satisfied: posthog>=2.4.0 in c:\\users\\fmmar\\anaconda3\\envs\\llms\\lib\\site-packages (from chromadb) (3.6.5)\n",
      "Requirement already satisfied: onnxruntime>=1.14.1 in c:\\users\\fmmar\\anaconda3\\envs\\llms\\lib\\site-packages (from chromadb) (1.21.1)\n",
      "Requirement already satisfied: opentelemetry-api>=1.2.0 in c:\\users\\fmmar\\anaconda3\\envs\\llms\\lib\\site-packages (from chromadb) (1.32.1)\n",
      "Requirement already satisfied: opentelemetry-exporter-otlp-proto-grpc>=1.2.0 in c:\\users\\fmmar\\anaconda3\\envs\\llms\\lib\\site-packages (from chromadb) (1.32.1)\n",
      "Requirement already satisfied: opentelemetry-instrumentation-fastapi>=0.41b0 in c:\\users\\fmmar\\anaconda3\\envs\\llms\\lib\\site-packages (from chromadb) (0.53b1)\n",
      "Requirement already satisfied: opentelemetry-sdk>=1.2.0 in c:\\users\\fmmar\\anaconda3\\envs\\llms\\lib\\site-packages (from chromadb) (1.32.1)\n",
      "Requirement already satisfied: tokenizers>=0.13.2 in c:\\users\\fmmar\\anaconda3\\envs\\llms\\lib\\site-packages (from chromadb) (0.21.1)\n",
      "Requirement already satisfied: pypika>=0.48.9 in c:\\users\\fmmar\\anaconda3\\envs\\llms\\lib\\site-packages (from chromadb) (0.48.9)\n",
      "Requirement already satisfied: tqdm>=4.65.0 in c:\\users\\fmmar\\anaconda3\\envs\\llms\\lib\\site-packages (from chromadb) (4.67.1)\n",
      "Requirement already satisfied: overrides>=7.3.1 in c:\\users\\fmmar\\anaconda3\\envs\\llms\\lib\\site-packages (from chromadb) (7.7.0)\n",
      "Requirement already satisfied: importlib-resources in c:\\users\\fmmar\\anaconda3\\envs\\llms\\lib\\site-packages (from chromadb) (6.5.2)\n",
      "Requirement already satisfied: grpcio>=1.58.0 in c:\\users\\fmmar\\anaconda3\\envs\\llms\\lib\\site-packages (from chromadb) (1.71.0)\n",
      "Requirement already satisfied: bcrypt>=4.0.1 in c:\\users\\fmmar\\anaconda3\\envs\\llms\\lib\\site-packages (from chromadb) (4.3.0)\n",
      "Requirement already satisfied: typer>=0.9.0 in c:\\users\\fmmar\\anaconda3\\envs\\llms\\lib\\site-packages (from chromadb) (0.15.2)\n",
      "Requirement already satisfied: kubernetes>=28.1.0 in c:\\users\\fmmar\\anaconda3\\envs\\llms\\lib\\site-packages (from chromadb) (32.0.1)\n",
      "Requirement already satisfied: mmh3>=4.0.1 in c:\\users\\fmmar\\anaconda3\\envs\\llms\\lib\\site-packages (from chromadb) (5.1.0)\n",
      "Requirement already satisfied: aiofiles<25.0,>=22.0 in c:\\users\\fmmar\\anaconda3\\envs\\llms\\lib\\site-packages (from gradio) (24.1.0)\n",
      "Requirement already satisfied: ffmpy in c:\\users\\fmmar\\anaconda3\\envs\\llms\\lib\\site-packages (from gradio) (0.5.0)\n",
      "Requirement already satisfied: gradio-client==1.9.0 in c:\\users\\fmmar\\anaconda3\\envs\\llms\\lib\\site-packages (from gradio) (1.9.0)\n",
      "Requirement already satisfied: groovy~=0.1 in c:\\users\\fmmar\\anaconda3\\envs\\llms\\lib\\site-packages (from gradio) (0.1.2)\n",
      "Requirement already satisfied: huggingface-hub>=0.28.1 in c:\\users\\fmmar\\anaconda3\\envs\\llms\\lib\\site-packages (from gradio) (0.30.2)\n",
      "Requirement already satisfied: jinja2<4.0 in c:\\users\\fmmar\\anaconda3\\envs\\llms\\lib\\site-packages (from gradio) (3.1.6)\n",
      "Requirement already satisfied: markupsafe<4.0,>=2.0 in c:\\users\\fmmar\\anaconda3\\envs\\llms\\lib\\site-packages (from gradio) (3.0.2)\n",
      "Requirement already satisfied: pandas<3.0,>=1.0 in c:\\users\\fmmar\\anaconda3\\envs\\llms\\lib\\site-packages (from gradio) (2.2.3)\n",
      "Requirement already satisfied: pillow<12.0,>=8.0 in c:\\users\\fmmar\\anaconda3\\envs\\llms\\lib\\site-packages (from gradio) (11.1.0)\n",
      "Requirement already satisfied: pydub in c:\\users\\fmmar\\anaconda3\\envs\\llms\\lib\\site-packages (from gradio) (0.25.1)\n",
      "Requirement already satisfied: python-multipart>=0.0.18 in c:\\users\\fmmar\\anaconda3\\envs\\llms\\lib\\site-packages (from gradio) (0.0.20)\n",
      "Requirement already satisfied: ruff>=0.9.3 in c:\\users\\fmmar\\anaconda3\\envs\\llms\\lib\\site-packages (from gradio) (0.11.6)\n",
      "Requirement already satisfied: safehttpx<0.2.0,>=0.1.6 in c:\\users\\fmmar\\anaconda3\\envs\\llms\\lib\\site-packages (from gradio) (0.1.6)\n",
      "Requirement already satisfied: semantic-version~=2.0 in c:\\users\\fmmar\\anaconda3\\envs\\llms\\lib\\site-packages (from gradio) (2.10.0)\n",
      "Requirement already satisfied: starlette<1.0,>=0.40.0 in c:\\users\\fmmar\\anaconda3\\envs\\llms\\lib\\site-packages (from gradio) (0.45.3)\n",
      "Requirement already satisfied: tomlkit<0.14.0,>=0.12.0 in c:\\users\\fmmar\\anaconda3\\envs\\llms\\lib\\site-packages (from gradio) (0.13.2)\n",
      "Requirement already satisfied: fsspec in c:\\users\\fmmar\\anaconda3\\envs\\llms\\lib\\site-packages (from gradio-client==1.9.0->gradio) (2024.12.0)\n",
      "Requirement already satisfied: websockets<16.0,>=10.0 in c:\\users\\fmmar\\anaconda3\\envs\\llms\\lib\\site-packages (from gradio-client==1.9.0->gradio) (15.0.1)\n",
      "Requirement already satisfied: sniffio>=1.1 in c:\\users\\fmmar\\anaconda3\\envs\\llms\\lib\\site-packages (from anyio->httpx<1,>=0.23.0->langsmith<0.4,>=0.1.17->langchain) (1.3.1)\n",
      "Requirement already satisfied: python-dateutil>=2.8.2 in c:\\users\\fmmar\\anaconda3\\envs\\llms\\lib\\site-packages (from pandas<3.0,>=1.0->gradio) (2.9.0.post0)\n",
      "Requirement already satisfied: pytz>=2020.1 in c:\\users\\fmmar\\anaconda3\\envs\\llms\\lib\\site-packages (from pandas<3.0,>=1.0->gradio) (2025.2)\n",
      "Requirement already satisfied: tzdata>=2022.7 in c:\\users\\fmmar\\anaconda3\\envs\\llms\\lib\\site-packages (from pandas<3.0,>=1.0->gradio) (2025.2)\n",
      "Requirement already satisfied: click>=8.0.0 in c:\\users\\fmmar\\anaconda3\\envs\\llms\\lib\\site-packages (from typer>=0.9.0->chromadb) (8.1.8)\n",
      "Requirement already satisfied: shellingham>=1.3.0 in c:\\users\\fmmar\\anaconda3\\envs\\llms\\lib\\site-packages (from typer>=0.9.0->chromadb) (1.5.4)\n",
      "Requirement already satisfied: rich>=10.11.0 in c:\\users\\fmmar\\anaconda3\\envs\\llms\\lib\\site-packages (from typer>=0.9.0->chromadb) (14.0.0)\n",
      "Requirement already satisfied: chardet in c:\\users\\fmmar\\anaconda3\\envs\\llms\\lib\\site-packages (from unstructured) (5.2.0)\n",
      "Requirement already satisfied: filetype in c:\\users\\fmmar\\anaconda3\\envs\\llms\\lib\\site-packages (from unstructured) (1.2.0)\n",
      "Requirement already satisfied: python-magic in c:\\users\\fmmar\\anaconda3\\envs\\llms\\lib\\site-packages (from unstructured) (0.4.27)\n",
      "Requirement already satisfied: lxml in c:\\users\\fmmar\\anaconda3\\envs\\llms\\lib\\site-packages (from unstructured) (5.4.0)\n",
      "Requirement already satisfied: nltk in c:\\users\\fmmar\\anaconda3\\envs\\llms\\lib\\site-packages (from unstructured) (3.9.1)\n",
      "Requirement already satisfied: beautifulsoup4 in c:\\users\\fmmar\\anaconda3\\envs\\llms\\lib\\site-packages (from unstructured) (4.13.4)\n",
      "Requirement already satisfied: emoji in c:\\users\\fmmar\\anaconda3\\envs\\llms\\lib\\site-packages (from unstructured) (2.14.1)\n",
      "Requirement already satisfied: dataclasses-json in c:\\users\\fmmar\\anaconda3\\envs\\llms\\lib\\site-packages (from unstructured) (0.6.7)\n",
      "Requirement already satisfied: python-iso639 in c:\\users\\fmmar\\anaconda3\\envs\\llms\\lib\\site-packages (from unstructured) (2025.2.18)\n",
      "Requirement already satisfied: langdetect in c:\\users\\fmmar\\anaconda3\\envs\\llms\\lib\\site-packages (from unstructured) (1.0.9)\n",
      "Requirement already satisfied: rapidfuzz in c:\\users\\fmmar\\anaconda3\\envs\\llms\\lib\\site-packages (from unstructured) (3.13.0)\n",
      "Requirement already satisfied: backoff in c:\\users\\fmmar\\anaconda3\\envs\\llms\\lib\\site-packages (from unstructured) (2.2.1)\n",
      "Requirement already satisfied: unstructured-client in c:\\users\\fmmar\\anaconda3\\envs\\llms\\lib\\site-packages (from unstructured) (0.34.0)\n",
      "Requirement already satisfied: wrapt in c:\\users\\fmmar\\anaconda3\\envs\\llms\\lib\\site-packages (from unstructured) (1.17.2)\n",
      "Requirement already satisfied: psutil in c:\\users\\fmmar\\anaconda3\\envs\\llms\\lib\\site-packages (from unstructured) (7.0.0)\n",
      "Requirement already satisfied: python-oxmsg in c:\\users\\fmmar\\anaconda3\\envs\\llms\\lib\\site-packages (from unstructured) (0.0.2)\n",
      "Requirement already satisfied: html5lib in c:\\users\\fmmar\\anaconda3\\envs\\llms\\lib\\site-packages (from unstructured) (1.1)\n",
      "Requirement already satisfied: regex>=2022.1.18 in c:\\users\\fmmar\\anaconda3\\envs\\llms\\lib\\site-packages (from tiktoken) (2024.11.6)\n",
      "Requirement already satisfied: transformers<5.0.0,>=4.41.0 in c:\\users\\fmmar\\anaconda3\\envs\\llms\\lib\\site-packages (from sentence-transformers) (4.48.3)\n",
      "Requirement already satisfied: torch>=1.11.0 in c:\\users\\fmmar\\anaconda3\\envs\\llms\\lib\\site-packages (from sentence-transformers) (2.0.1+cu117)\n",
      "Requirement already satisfied: scikit-learn in c:\\users\\fmmar\\anaconda3\\envs\\llms\\lib\\site-packages (from sentence-transformers) (1.6.1)\n",
      "Requirement already satisfied: scipy in c:\\users\\fmmar\\anaconda3\\envs\\llms\\lib\\site-packages (from sentence-transformers) (1.13.1)\n",
      "Requirement already satisfied: filelock in c:\\users\\fmmar\\anaconda3\\envs\\llms\\lib\\site-packages (from transformers<5.0.0,>=4.41.0->sentence-transformers) (3.18.0)\n",
      "Requirement already satisfied: safetensors>=0.4.1 in c:\\users\\fmmar\\anaconda3\\envs\\llms\\lib\\site-packages (from transformers<5.0.0,>=4.41.0->sentence-transformers) (0.5.3)\n",
      "Requirement already satisfied: pyproject_hooks in c:\\users\\fmmar\\anaconda3\\envs\\llms\\lib\\site-packages (from build>=1.0.3->chromadb) (1.2.0)\n",
      "Requirement already satisfied: colorama in c:\\users\\fmmar\\anaconda3\\envs\\llms\\lib\\site-packages (from build>=1.0.3->chromadb) (0.4.6)\n",
      "Requirement already satisfied: six>=1.9.0 in c:\\users\\fmmar\\anaconda3\\envs\\llms\\lib\\site-packages (from kubernetes>=28.1.0->chromadb) (1.17.0)\n",
      "Requirement already satisfied: google-auth>=1.0.1 in c:\\users\\fmmar\\anaconda3\\envs\\llms\\lib\\site-packages (from kubernetes>=28.1.0->chromadb) (2.39.0)\n",
      "Requirement already satisfied: websocket-client!=0.40.0,!=0.41.*,!=0.42.*,>=0.32.0 in c:\\users\\fmmar\\anaconda3\\envs\\llms\\lib\\site-packages (from kubernetes>=28.1.0->chromadb) (1.8.0)\n",
      "Requirement already satisfied: requests-oauthlib in c:\\users\\fmmar\\anaconda3\\envs\\llms\\lib\\site-packages (from kubernetes>=28.1.0->chromadb) (2.0.0)\n",
      "Requirement already satisfied: oauthlib>=3.2.2 in c:\\users\\fmmar\\anaconda3\\envs\\llms\\lib\\site-packages (from kubernetes>=28.1.0->chromadb) (3.2.2)\n",
      "Requirement already satisfied: durationpy>=0.7 in c:\\users\\fmmar\\anaconda3\\envs\\llms\\lib\\site-packages (from kubernetes>=28.1.0->chromadb) (0.9)\n",
      "Requirement already satisfied: cachetools<6.0,>=2.0.0 in c:\\users\\fmmar\\anaconda3\\envs\\llms\\lib\\site-packages (from google-auth>=1.0.1->kubernetes>=28.1.0->chromadb) (5.5.2)\n",
      "Requirement already satisfied: pyasn1-modules>=0.2.1 in c:\\users\\fmmar\\anaconda3\\envs\\llms\\lib\\site-packages (from google-auth>=1.0.1->kubernetes>=28.1.0->chromadb) (0.4.2)\n",
      "Requirement already satisfied: rsa<5,>=3.1.4 in c:\\users\\fmmar\\anaconda3\\envs\\llms\\lib\\site-packages (from google-auth>=1.0.1->kubernetes>=28.1.0->chromadb) (4.9.1)\n",
      "Requirement already satisfied: pyasn1>=0.1.3 in c:\\users\\fmmar\\anaconda3\\envs\\llms\\lib\\site-packages (from rsa<5,>=3.1.4->google-auth>=1.0.1->kubernetes>=28.1.0->chromadb) (0.6.1)\n",
      "Requirement already satisfied: coloredlogs in c:\\users\\fmmar\\anaconda3\\envs\\llms\\lib\\site-packages (from onnxruntime>=1.14.1->chromadb) (15.0.1)\n",
      "Requirement already satisfied: flatbuffers in c:\\users\\fmmar\\anaconda3\\envs\\llms\\lib\\site-packages (from onnxruntime>=1.14.1->chromadb) (25.2.10)\n",
      "Requirement already satisfied: protobuf in c:\\users\\fmmar\\anaconda3\\envs\\llms\\lib\\site-packages (from onnxruntime>=1.14.1->chromadb) (5.29.3)\n",
      "Requirement already satisfied: sympy in c:\\users\\fmmar\\anaconda3\\envs\\llms\\lib\\site-packages (from onnxruntime>=1.14.1->chromadb) (1.13.3)\n",
      "Requirement already satisfied: deprecated>=1.2.6 in c:\\users\\fmmar\\anaconda3\\envs\\llms\\lib\\site-packages (from opentelemetry-api>=1.2.0->chromadb) (1.2.18)\n",
      "Requirement already satisfied: importlib-metadata<8.7.0,>=6.0 in c:\\users\\fmmar\\anaconda3\\envs\\llms\\lib\\site-packages (from opentelemetry-api>=1.2.0->chromadb) (8.6.1)\n",
      "Requirement already satisfied: zipp>=3.20 in c:\\users\\fmmar\\anaconda3\\envs\\llms\\lib\\site-packages (from importlib-metadata<8.7.0,>=6.0->opentelemetry-api>=1.2.0->chromadb) (3.21.0)\n",
      "Requirement already satisfied: googleapis-common-protos~=1.52 in c:\\users\\fmmar\\anaconda3\\envs\\llms\\lib\\site-packages (from opentelemetry-exporter-otlp-proto-grpc>=1.2.0->chromadb) (1.70.0)\n",
      "Requirement already satisfied: opentelemetry-exporter-otlp-proto-common==1.32.1 in c:\\users\\fmmar\\anaconda3\\envs\\llms\\lib\\site-packages (from opentelemetry-exporter-otlp-proto-grpc>=1.2.0->chromadb) (1.32.1)\n",
      "Requirement already satisfied: opentelemetry-proto==1.32.1 in c:\\users\\fmmar\\anaconda3\\envs\\llms\\lib\\site-packages (from opentelemetry-exporter-otlp-proto-grpc>=1.2.0->chromadb) (1.32.1)\n",
      "Requirement already satisfied: opentelemetry-semantic-conventions==0.53b1 in c:\\users\\fmmar\\anaconda3\\envs\\llms\\lib\\site-packages (from opentelemetry-sdk>=1.2.0->chromadb) (0.53b1)\n",
      "Requirement already satisfied: opentelemetry-instrumentation-asgi==0.53b1 in c:\\users\\fmmar\\anaconda3\\envs\\llms\\lib\\site-packages (from opentelemetry-instrumentation-fastapi>=0.41b0->chromadb) (0.53b1)\n",
      "Requirement already satisfied: opentelemetry-instrumentation==0.53b1 in c:\\users\\fmmar\\anaconda3\\envs\\llms\\lib\\site-packages (from opentelemetry-instrumentation-fastapi>=0.41b0->chromadb) (0.53b1)\n",
      "Requirement already satisfied: opentelemetry-util-http==0.53b1 in c:\\users\\fmmar\\anaconda3\\envs\\llms\\lib\\site-packages (from opentelemetry-instrumentation-fastapi>=0.41b0->chromadb) (0.53b1)\n",
      "Requirement already satisfied: asgiref~=3.0 in c:\\users\\fmmar\\anaconda3\\envs\\llms\\lib\\site-packages (from opentelemetry-instrumentation-asgi==0.53b1->opentelemetry-instrumentation-fastapi>=0.41b0->chromadb) (3.8.1)\n",
      "Requirement already satisfied: monotonic>=1.5 in c:\\users\\fmmar\\anaconda3\\envs\\llms\\lib\\site-packages (from posthog>=2.4.0->chromadb) (1.6)\n",
      "Requirement already satisfied: markdown-it-py>=2.2.0 in c:\\users\\fmmar\\anaconda3\\envs\\llms\\lib\\site-packages (from rich>=10.11.0->typer>=0.9.0->chromadb) (3.0.0)\n",
      "Requirement already satisfied: pygments<3.0.0,>=2.13.0 in c:\\users\\fmmar\\anaconda3\\envs\\llms\\lib\\site-packages (from rich>=10.11.0->typer>=0.9.0->chromadb) (2.19.1)\n",
      "Requirement already satisfied: mdurl~=0.1 in c:\\users\\fmmar\\anaconda3\\envs\\llms\\lib\\site-packages (from markdown-it-py>=2.2.0->rich>=10.11.0->typer>=0.9.0->chromadb) (0.1.2)\n",
      "Requirement already satisfied: networkx in c:\\users\\fmmar\\anaconda3\\envs\\llms\\lib\\site-packages (from torch>=1.11.0->sentence-transformers) (3.4.2)\n",
      "Requirement already satisfied: httptools>=0.6.3 in c:\\users\\fmmar\\anaconda3\\envs\\llms\\lib\\site-packages (from uvicorn[standard]>=0.18.3->chromadb) (0.6.4)\n",
      "Requirement already satisfied: python-dotenv>=0.13 in c:\\users\\fmmar\\anaconda3\\envs\\llms\\lib\\site-packages (from uvicorn[standard]>=0.18.3->chromadb) (1.1.0)\n",
      "Requirement already satisfied: watchfiles>=0.13 in c:\\users\\fmmar\\anaconda3\\envs\\llms\\lib\\site-packages (from uvicorn[standard]>=0.18.3->chromadb) (1.0.5)\n",
      "Requirement already satisfied: soupsieve>1.2 in c:\\users\\fmmar\\anaconda3\\envs\\llms\\lib\\site-packages (from beautifulsoup4->unstructured) (2.5)\n",
      "Requirement already satisfied: humanfriendly>=9.1 in c:\\users\\fmmar\\anaconda3\\envs\\llms\\lib\\site-packages (from coloredlogs->onnxruntime>=1.14.1->chromadb) (10.0)\n",
      "Requirement already satisfied: pyreadline3 in c:\\users\\fmmar\\anaconda3\\envs\\llms\\lib\\site-packages (from humanfriendly>=9.1->coloredlogs->onnxruntime>=1.14.1->chromadb) (0.0.0)\n",
      "Requirement already satisfied: marshmallow<4.0.0,>=3.18.0 in c:\\users\\fmmar\\anaconda3\\envs\\llms\\lib\\site-packages (from dataclasses-json->unstructured) (3.26.1)\n",
      "Requirement already satisfied: typing-inspect<1,>=0.4.0 in c:\\users\\fmmar\\anaconda3\\envs\\llms\\lib\\site-packages (from dataclasses-json->unstructured) (0.9.0)\n",
      "Requirement already satisfied: mypy-extensions>=0.3.0 in c:\\users\\fmmar\\anaconda3\\envs\\llms\\lib\\site-packages (from typing-inspect<1,>=0.4.0->dataclasses-json->unstructured) (1.1.0)\n",
      "Requirement already satisfied: webencodings in c:\\users\\fmmar\\anaconda3\\envs\\llms\\lib\\site-packages (from html5lib->unstructured) (0.5.1)\n",
      "Requirement already satisfied: joblib in c:\\users\\fmmar\\anaconda3\\envs\\llms\\lib\\site-packages (from nltk->unstructured) (1.4.2)\n",
      "Requirement already satisfied: olefile in c:\\users\\fmmar\\anaconda3\\envs\\llms\\lib\\site-packages (from python-oxmsg->unstructured) (0.47)\n",
      "Requirement already satisfied: threadpoolctl>=3.1.0 in c:\\users\\fmmar\\anaconda3\\envs\\llms\\lib\\site-packages (from scikit-learn->sentence-transformers) (3.6.0)\n",
      "Requirement already satisfied: mpmath<1.4,>=1.1.0 in c:\\users\\fmmar\\anaconda3\\envs\\llms\\lib\\site-packages (from sympy->onnxruntime>=1.14.1->chromadb) (1.3.0)\n",
      "Requirement already satisfied: cryptography>=3.1 in c:\\users\\fmmar\\anaconda3\\envs\\llms\\lib\\site-packages (from unstructured-client->unstructured) (44.0.2)\n",
      "Requirement already satisfied: eval-type-backport>=0.2.0 in c:\\users\\fmmar\\anaconda3\\envs\\llms\\lib\\site-packages (from unstructured-client->unstructured) (0.2.2)\n",
      "Requirement already satisfied: nest-asyncio>=1.6.0 in c:\\users\\fmmar\\anaconda3\\envs\\llms\\lib\\site-packages (from unstructured-client->unstructured) (1.6.0)\n",
      "Requirement already satisfied: cffi>=1.12 in c:\\users\\fmmar\\anaconda3\\envs\\llms\\lib\\site-packages (from cryptography>=3.1->unstructured-client->unstructured) (1.17.1)\n",
      "Requirement already satisfied: pycparser in c:\\users\\fmmar\\anaconda3\\envs\\llms\\lib\\site-packages (from cffi>=1.12->cryptography>=3.1->unstructured-client->unstructured) (2.22)\n"
     ]
    }
   ],
   "source": [
    "!pip install langchain chromadb gradio pypdf unstructured tiktoken sentence-transformers"
   ]
  },
  {
   "cell_type": "markdown",
   "id": "9ad9b5ac",
   "metadata": {},
   "source": [
    "## Carga de documento PDF o desde web"
   ]
  },
  {
   "cell_type": "code",
   "execution_count": 13,
   "id": "6a122be4",
   "metadata": {},
   "outputs": [
    {
     "name": "stdout",
     "output_type": "stream",
     "text": [
      "OpenAI API Key exists and begins sk-proj-\n"
     ]
    }
   ],
   "source": [
    "import os\n",
    "import openai\n",
    "from dotenv import load_dotenv\n",
    "from openai import OpenAI\n",
    "import gradio as gr\n",
    "from langchain.document_loaders import PyPDFLoader, WebBaseLoader\n",
    "\n",
    "load_dotenv(override=True)\n",
    "openai_api_key = os.getenv('OPENAI_API_KEY')\n",
    "if openai_api_key:\n",
    "    print(f\"OpenAI API Key exists and begins {openai_api_key[:8]}\")\n",
    "\n",
    "# Cargar PDF\n",
    "pdf_loader = PyPDFLoader(\"EU_AI_Act_ESP.pdf\")  # Cambia por tu archivo\n",
    "pdf_docs = pdf_loader.load()\n",
    "\n",
    "# Cargar desde una web\n",
    "# web_loader = WebBaseLoader(\"https://example.com\")\n",
    "# web_docs = web_loader.load()\n"
   ]
  },
  {
   "cell_type": "markdown",
   "id": "14558edc",
   "metadata": {},
   "source": [
    "## División en chunks y creación de base vectorial"
   ]
  },
  {
   "cell_type": "code",
   "execution_count": 14,
   "id": "33aa691b",
   "metadata": {},
   "outputs": [],
   "source": [
    "from langchain.text_splitter import RecursiveCharacterTextSplitter\n",
    "from langchain.vectorstores import Chroma\n",
    "from langchain.embeddings import HuggingFaceEmbeddings\n",
    "\n",
    "text_splitter = RecursiveCharacterTextSplitter(chunk_size=500, chunk_overlap=50)\n",
    "chunks = text_splitter.split_documents(pdf_docs)\n",
    "\n",
    "embedding = HuggingFaceEmbeddings(model_name=\"sentence-transformers/all-MiniLM-L6-v2\")\n",
    "db = Chroma.from_documents(chunks, embedding)\n"
   ]
  },
  {
   "cell_type": "markdown",
   "id": "10bec99d",
   "metadata": {},
   "source": [
    "## Cadena de respuesta con contexto (RAG)"
   ]
  },
  {
   "cell_type": "code",
   "execution_count": 16,
   "id": "f771d2a1",
   "metadata": {},
   "outputs": [
    {
     "data": {
      "text/plain": [
       "' El documento habla sobre la evaluación de la documentación técnica relativa a un sistema de IA que un proveedor quiera introducir en el mercado o poner en servicio, y al que se aplicará un sistema de gestión de calidad mencionado en el punto 3. La solicitud debe incluir una declaración por escrito de que no se ha presentado la misma solicitud ante ningún otro organismo notificado y la documentación técnica prevista en el anexo IV.'"
      ]
     },
     "execution_count": 16,
     "metadata": {},
     "output_type": "execute_result"
    }
   ],
   "source": [
    "from langchain.llms import OpenAI  # Puedes cambiar por otro LLM gratuito como GPT4All o LlamaCpp\n",
    "from langchain.chains import RetrievalQA\n",
    "\n",
    "qa = RetrievalQA.from_chain_type(\n",
    "    llm=OpenAI(),  # Usa tu clave API o sustituye por otro modelo\n",
    "    retriever=db.as_retriever()\n",
    ")\n",
    "\n",
    "# Prueba\n",
    "qa.run(\"¿Qué dice el documento sobre Inteligencia artificaial?\")\n"
   ]
  },
  {
   "cell_type": "markdown",
   "id": "df36b3d0",
   "metadata": {},
   "source": [
    "## Crear interfaz web con Gradio"
   ]
  },
  {
   "cell_type": "code",
   "execution_count": 21,
   "id": "f58bd647",
   "metadata": {},
   "outputs": [
    {
     "name": "stdout",
     "output_type": "stream",
     "text": [
      "* Running on local URL:  http://127.0.0.1:7863\n",
      "\n",
      "To create a public link, set `share=True` in `launch()`.\n"
     ]
    },
    {
     "data": {
      "text/html": [
       "<div><iframe src=\"http://127.0.0.1:7863/\" width=\"100%\" height=\"500\" allow=\"autoplay; camera; microphone; clipboard-read; clipboard-write;\" frameborder=\"0\" allowfullscreen></iframe></div>"
      ],
      "text/plain": [
       "<IPython.core.display.HTML object>"
      ]
     },
     "metadata": {},
     "output_type": "display_data"
    },
    {
     "data": {
      "text/plain": []
     },
     "execution_count": 21,
     "metadata": {},
     "output_type": "execute_result"
    }
   ],
   "source": [
    "import gradio as gr\n",
    "\n",
    "def responder(pregunta, archivo):\n",
    "    loader = PyPDFLoader(archivo.name)\n",
    "    docs = loader.load()\n",
    "    chunks = text_splitter.split_documents(docs)\n",
    "    db = Chroma.from_documents(chunks, embedding)\n",
    "    qa = RetrievalQA.from_chain_type(llm=OpenAI(), retriever=db.as_retriever())\n",
    "    return qa.run(pregunta)\n",
    "\n",
    "demo = gr.Interface(\n",
    "    fn=responder,\n",
    "    inputs=[gr.Textbox(label=\"Pregunta\"), gr.File(label=\"Sube tu PDF\")],\n",
    "    outputs=\"text\",\n",
    "    title=\"🔄 RAG OpenAI Chatbot\"\n",
    ")\n",
    "\n",
    "demo.launch()\n"
   ]
  },
  {
   "cell_type": "code",
   "execution_count": null,
   "id": "62d0a999-ac4e-4f9d-8c88-ae2908970ffd",
   "metadata": {},
   "outputs": [],
   "source": []
  }
 ],
 "metadata": {
  "kernelspec": {
   "display_name": "Python 3 (ipykernel)",
   "language": "python",
   "name": "python3"
  },
  "language_info": {
   "codemirror_mode": {
    "name": "ipython",
    "version": 3
   },
   "file_extension": ".py",
   "mimetype": "text/x-python",
   "name": "python",
   "nbconvert_exporter": "python",
   "pygments_lexer": "ipython3",
   "version": "3.11.12"
  }
 },
 "nbformat": 4,
 "nbformat_minor": 5
}
